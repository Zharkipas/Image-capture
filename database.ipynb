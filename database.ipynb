{
 "cells": [
  {
   "cell_type": "code",
   "execution_count": 54,
   "metadata": {},
   "outputs": [],
   "source": [
    "import os\n",
    "import keyboard\n",
    "import cv2\n",
    "import csv\n",
    "import pandas as pd"
   ]
  },
  {
   "cell_type": "code",
   "execution_count": 55,
   "metadata": {},
   "outputs": [],
   "source": [
    "cam = cv2.VideoCapture(0)\n",
    "angle = 0\n",
    "img_counter = 0\n",
    "video = 'video'\n",
    "dtbase = ['folder']\n",
    "capture = ['center','left','right', 'steering', 'throttle', 'reverse', 'speed']"
   ]
  },
  {
   "cell_type": "code",
   "execution_count": 56,
   "metadata": {},
   "outputs": [],
   "source": [
    "with open(\"dtbase.csv\", \"r\") as file:\n",
    "                folderid= int(file.read())\n",
    "path = r'C:\\Users\\Zharb\\Documents\\GitHub\\Image-capture\\IMG'+str(folderid)\n",
    "os.mkdir(path)\n",
    "newpath = os.path.join(path, 'capture.csv')"
   ]
  },
  {
   "cell_type": "code",
   "execution_count": null,
   "metadata": {},
   "outputs": [],
   "source": [
    "while True:\n",
    "\n",
    "    result, image = cam.read()\n",
    "\n",
    "    if result:\n",
    "\n",
    "        cv2.imshow(video, image)\n",
    "\n",
    "        if keyboard.is_pressed('c'):\n",
    "            img_name=f'center_{img_counter}.png'\n",
    "            file = os.path.join(path, img_name)\n",
    "            cv2.imwrite(file, image)\n",
    "            img_counter += 1\n",
    "            dict ={\"center\": file,\"left\":'null',\"right\":'null', \"steering\": angle, \"throttle\":'null', \"reverse\":'null', \"speed\":'null'}\n",
    "            with open( newpath , 'w') as csv_file:\n",
    "                dict_object = csv.DictWriter(csv_file, fieldnames = capture) \n",
    "                dict_object.writerow(dict)\n",
    "\n",
    "        if keyboard.is_pressed('q'):\n",
    "\n",
    "            folderid += 1\n",
    "            dict ={\"folder\": folderid}\n",
    "            with open(\"dtbase.csv\", \"w\") as file:\n",
    "                dict_object = csv.DictWriter(file, fieldnames = dtbase) \n",
    "                dict_object.writerow(dict)\n",
    "                \n",
    "            break\n",
    "\n",
    "        cv2.waitKey(20)\n",
    "\n",
    "cam.release()\n",
    "cv2.destroyAllWindows()"
   ]
  }
 ],
 "metadata": {
  "kernelspec": {
   "display_name": "Python 3",
   "language": "python",
   "name": "python3"
  },
  "language_info": {
   "codemirror_mode": {
    "name": "ipython",
    "version": 3
   },
   "file_extension": ".py",
   "mimetype": "text/x-python",
   "name": "python",
   "nbconvert_exporter": "python",
   "pygments_lexer": "ipython3",
   "version": "3.10.8"
  },
  "orig_nbformat": 4,
  "vscode": {
   "interpreter": {
    "hash": "4df9d95589785604f862fd4d34d5e9ce701b47da7f04a584076a925a941af822"
   }
  }
 },
 "nbformat": 4,
 "nbformat_minor": 2
}
